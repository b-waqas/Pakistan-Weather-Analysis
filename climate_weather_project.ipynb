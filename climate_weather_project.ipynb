{
 "cells": [
  {
   "cell_type": "code",
   "execution_count": null,
   "id": "4787f68e",
   "metadata": {},
   "outputs": [],
   "source": [
    "import pandas as pd\n",
    "import os  # For file path handling\n",
    "import numpy as np\n",
    "import matplotlib.pyplot as plt\n",
    "\n",
    "%matplotlib inline\n",
    "pd.set_option('display.max_columns', 200)  # Set maximum number of columns to display\n",
    "pd.set_option('display.width', 120) # Set display width for better readability\n"
   ]
  },
  {
   "cell_type": "code",
   "execution_count": null,
   "id": "75a8f97a",
   "metadata": {},
   "outputs": [],
   "source": [
    "# load data\n",
    "file = \"pakistan_weather_2000_2024.csv\"\n",
    "df = pd.read_csv(file, parse_dates=[\"date\"], dayfirst=True, low_memory=False)\n",
    "\n",
    "# Display the first few rows of the DataFrame\n",
    "print(\"Rows,cols:\", df.shape)\n",
    "display(df.head())"
   ]
  },
  {
   "cell_type": "markdown",
   "id": "361dfea7",
   "metadata": {},
   "source": [
    "#### Understanding the Dataset: Structure, Data Types & Missing Values\n",
    "\n",
    "Before analyzing or visualizing, it’s important to **understand the structure** of the dataset.\n",
    "\n",
    "- `df.info()` shows the number of rows, data types of each column, and whether any missing values exist.  \n",
    "- `df.describe()` gives summary statistics (like min, max, mean) for both numeric and categorical columns.  \n",
    "- `df.isnull().sum()` counts missing values in each column.\n",
    "\n",
    "**Why this matters:**  \n",
    "This step helps identify:\n",
    "1. Columns that need conversion (e.g., numbers mistakenly stored as text).  \n",
    "2. Columns with missing data that we may need to fill or drop.  \n",
    "3. Whether the dataset size and time coverage match our expectations (daily records from 2020–2024).  \n"
   ]
  },
  {
   "cell_type": "code",
   "execution_count": null,
   "id": "a881a4af",
   "metadata": {},
   "outputs": [],
   "source": [
    "#types and missing values\n",
    "display(df.info())  #column types\n",
    "\n",
    "display(df.describe(include=\"all\").T)\n",
    " #stats\n",
    "display(df.isnull().sum().sort_values(ascending=False).head(20))"
   ]
  },
  {
   "cell_type": "markdown",
   "id": "a72f2f5c",
   "metadata": {},
   "source": [
    "#### Data Cleaning: Converting Columns to Correct Types\n",
    "\n",
    "In raw datasets, numeric columns (like `tavg`, `prcp`, or `humidity`) sometimes contain errors (e.g., text values) that prevent proper analysis.\n",
    "\n",
    "- **force conversion** of numeric columns to the correct type (`float` or `int`).  \n",
    "- Any invalid values automatically become `NaN` (missing), which will be handled later.  \n",
    "- The `date` column is explicitly converted to a `datetime` object and sorted.  \n",
    "\n",
    " **Why this matters:**  \n",
    "- Ensures calculations (like averages, sums, correlations) work correctly.  \n",
    "- Puts all records in chronological order, making time-series analysis possible.  \n",
    "- Prepares the dataset for **feature engineering** and plotting.  \n"
   ]
  },
  {
   "cell_type": "code",
   "execution_count": null,
   "id": "389e6aaa",
   "metadata": {},
   "outputs": [],
   "source": [
    "# Cell 4: coerce numeric columns (adjust list if you have different names)\n",
    "num_cols = ['latitude','longitude','elevation','tmin','tmax','tavg','prcp',\n",
    "            'wspd','humidity','pressure','dew_point','cloud_cover','visibility','temp_range','rainfall_intensity']\n",
    "for c in num_cols:\n",
    "    if c in df.columns:\n",
    "        df[c] = pd.to_numeric(df[c], errors='coerce')\n",
    "\n",
    "# ensure date is datetime and set index (optional)\n",
    "df['date'] = pd.to_datetime(df['date'], errors='coerce')\n",
    "df = df.sort_values('date').reset_index(drop=True)\n",
    "\n",
    "# quick recheck\n",
    "display(df[num_cols].info())\n",
    "display(df[num_cols].isnull().sum().sort_values(ascending=False).head(10))\n"
   ]
  },
  {
   "cell_type": "markdown",
   "id": "4732d552",
   "metadata": {},
   "source": [
    "#### Step 5 — Feature Engineering: Adding Useful Date Features\n",
    "\n",
    "The dataset has a `date` column, but additional **time-based features** can be extracted:\n",
    "- `year` → to group by year.  \n",
    "- `month` → to study seasonal/monthly patterns.  \n",
    "- `day` → for daily granularity.  \n",
    "- `dayofweek` → to see if weekdays vs weekends matter.  \n",
    "- `is_weekend` → boolean flag for Saturday & Sunday.  \n",
    "\n",
    "**Why this matters:**  \n",
    "These derived features will help us:\n",
    "- Compare weather **seasonally** (e.g., hottest month across years).  \n",
    "- Study trends over **years** (e.g., warming or rainfall changes).  \n",
    "- Identify differences between **weekdays vs weekends** (useful for human impact studies, air quality, etc.).  \n",
    "\n",
    "This step is called **feature engineering** and is the foundation of most data science projects.  \n"
   ]
  },
  {
   "cell_type": "code",
   "execution_count": null,
   "id": "f28caf3a",
   "metadata": {},
   "outputs": [],
   "source": [
    "# Cell 5: datetime features\n",
    "df['year'] = df['date'].dt.year\n",
    "df['month'] = df['date'].dt.month\n",
    "df['day'] = df['date'].dt.day\n",
    "df['dayofweek'] = df['date'].dt.dayofweek  # 0=Mon\n",
    "df['is_weekend'] = df['dayofweek'].isin([5,6])\n",
    "display(df[['date','year','month','day','dayofweek','is_weekend']].head())"
   ]
  },
  {
   "cell_type": "markdown",
   "id": "53ea2448",
   "metadata": {},
   "source": [
    "#### Exploratory Data Analysis (EDA)\n",
    "\n",
    "Now that the dataset is cleaned and enriched with new features, the next step is **Exploratory Data Analysis (EDA)**.\n",
    "\n",
    "EDA helps us:\n",
    "- Understand overall trends in the data.\n",
    "- Detect seasonality (e.g., hottest/coolest months, rainfall cycles).\n",
    "- Compare patterns across cities and regions.\n",
    "- Identify unusual data points (outliers).\n",
    "\n",
    "**summary statistics** and **visualizations** will be used to uncover patterns.\n"
   ]
  },
  {
   "cell_type": "markdown",
   "id": "a9639cc2",
   "metadata": {},
   "source": [
    "#### Visualization A — Daily Temperature Trend\n",
    "\n",
    "Plotting the **average daily temperature (`tavg`)** over time.\n",
    "\n",
    "- A **rolling average (7-day)** smooths short-term noise and highlights seasonal cycles.\n",
    "- This allows us to see yearly trends (summer vs winter) and whether there are long-term changes from 2020 to 2024.\n",
    "\n",
    "**What to look for:**\n",
    "- Do we see clear summer peaks and winter dips each year?\n",
    "- Any unusual spikes/drops that may indicate anomalies or extreme events?\n"
   ]
  },
  {
   "cell_type": "code",
   "execution_count": null,
   "id": "c69cb1af",
   "metadata": {},
   "outputs": [],
   "source": [
    "# Average temperature over time (single line)\n",
    "plt.figure(figsize=(12,4))\n",
    "df.set_index('date')['tavg'].rolling(7, min_periods=1).mean().plot()\n",
    "plt.title('7-day rolling average of tavg (all data)')\n",
    "plt.xlabel('Date')\n",
    "plt.ylabel('tavg')\n",
    "plt.grid(True)\n",
    "plt.tight_layout()\n",
    "plt.show()"
   ]
  },
  {
   "cell_type": "markdown",
   "id": "00de6a7e",
   "metadata": {},
   "source": [
    "#### Visualization B — Monthly Average Temperature (Seasonality)\n",
    "\n",
    "By grouping all years together, we calculate the **average temperature per month**.\n",
    "\n",
    "- This shows the **climatological cycle** of Pakistan.\n",
    "- It helps identify the hottest months (e.g., May–June) and coolest months (e.g., January).\n",
    "\n",
    "**Why it is important:**\n",
    "Seasonal analysis is crucial for climate studies, agriculture, and energy planning.  \n",
    "It also validates whether the dataset matches expected climate patterns.\n"
   ]
  },
  {
   "cell_type": "code",
   "execution_count": null,
   "id": "302ccc4c",
   "metadata": {},
   "outputs": [],
   "source": [
    "# Monthly average tavg (aggregated across all years)\n",
    "monthly = df.groupby('month')['tavg'].mean()\n",
    "plt.figure(figsize=(8,4))\n",
    "monthly.plot(marker='o')\n",
    "plt.title('Average monthly tavg (2020-2024)')\n",
    "plt.xlabel('Month (1=Jan)')\n",
    "plt.ylabel('Mean tavg')\n",
    "plt.xticks(range(1,13))\n",
    "plt.grid(True)\n",
    "plt.tight_layout()\n",
    "plt.show()\n"
   ]
  },
  {
   "cell_type": "markdown",
   "id": "5df79183",
   "metadata": {},
   "source": [
    "### Visualization C — Comparing Temperature Distributions by City\n",
    "\n",
    "Using boxplots of `tavg` for different cities:\n",
    "\n",
    "- Each box shows the **median, spread, and outliers** of daily average temperatures.\n",
    "- Cities with higher elevation (e.g., northern areas) should have cooler distributions.\n",
    "- Cities in the plains or coastal regions may show hotter, more humid profiles.\n",
    "\n",
    "**Importance:**\n",
    "This allows us to compare **regional climate variations** across Pakistan.\n"
   ]
  },
  {
   "cell_type": "code",
   "execution_count": null,
   "id": "9244c7d9",
   "metadata": {},
   "outputs": [],
   "source": [
    "# Boxplot of tavg by city (only cities with enough samples)\n",
    "city_counts = df['city'].value_counts()\n",
    "good_cities = city_counts[city_counts > 200].index.tolist()  # adjust threshold\n",
    "subset = df[df['city'].isin(good_cities)]\n",
    "\n",
    "plt.figure(figsize=(12,6))\n",
    "subset.boxplot(column='tavg', by='city', rot=45)\n",
    "plt.title('tavg distribution by city')\n",
    "plt.suptitle('')\n",
    "plt.ylabel('tavg')\n",
    "plt.tight_layout()\n",
    "plt.show()\n"
   ]
  },
  {
   "cell_type": "markdown",
   "id": "751f6653",
   "metadata": {},
   "source": [
    "#### Visualization D — Rainfall Heatmap (Month vs Year)\n",
    "\n",
    "Aggregate rainfall (`prcp`) by **month and year** and display as a heatmap.\n",
    "\n",
    "- Darker colors = more rainfall.\n",
    "- Monsoon months (July–September) are expected to have the highest rainfall totals.\n",
    "\n",
    "**What to learn:**\n",
    "- Which years had stronger/weaker monsoons?\n",
    "- Are there shifts in rainfall timing or intensity across the years?\n"
   ]
  },
  {
   "cell_type": "code",
   "execution_count": null,
   "id": "ad223b25",
   "metadata": {},
   "outputs": [],
   "source": [
    "# Rainfall heatmap (sum of prcp)\n",
    "pivot = df.pivot_table(index='month', columns='year', values='prcp', aggfunc='sum')\n",
    "plt.figure(figsize=(8,5))\n",
    "plt.imshow(pivot, aspect='auto', origin='lower')\n",
    "plt.colorbar(label='Total prcp')\n",
    "plt.yticks(np.arange(0,12), np.arange(1,13))\n",
    "plt.xticks(np.arange(len(pivot.columns)), pivot.columns)\n",
    "plt.title('Monthly total rainfall (month vs year)')\n",
    "plt.xlabel('Year')\n",
    "plt.ylabel('Month')\n",
    "plt.tight_layout()\n",
    "plt.show()\n"
   ]
  },
  {
   "cell_type": "markdown",
   "id": "ae7a5ae7",
   "metadata": {},
   "source": [
    "#### Visualization E — Correlation Between Weather Variables\n",
    "\n",
    "We calculate correlations between numeric variables (`tavg`, `tmin`, `tmax`, `humidity`, `pressure`, etc.).\n",
    "\n",
    "- Correlation values range from **-1 (strong negative)** to **+1 (strong positive)**.\n",
    "- A heatmap helps visualize which variables move together.\n",
    "\n",
    "**Important:**\n",
    "- Confirms expected relationships (e.g., `tavg` should correlate strongly with `tmin` and `tmax`).\n",
    "- Helps identify redundant features (useful for modeling).\n"
   ]
  },
  {
   "cell_type": "code",
   "execution_count": null,
   "id": "c9ec15ac",
   "metadata": {},
   "outputs": [],
   "source": [
    "num = df.select_dtypes(include='number')\n",
    "corr = num.corr()\n",
    "plt.figure(figsize=(8,6))\n",
    "plt.imshow(corr, vmin=-1, vmax=1)\n",
    "plt.colorbar()\n",
    "plt.xticks(range(len(corr)), corr.columns, rotation=90)\n",
    "plt.yticks(range(len(corr)), corr.columns)\n",
    "plt.title('Numeric feature correlation matrix (visual)')\n",
    "plt.tight_layout()\n",
    "plt.show()\n"
   ]
  },
  {
   "cell_type": "markdown",
   "id": "50c43989",
   "metadata": {},
   "source": [
    "#### Visualization F — Relationship Between Temperature and Humidity\n",
    "\n",
    "We create a scatterplot of **temperature (`tavg`) vs humidity**:\n",
    "\n",
    "- Each point is a daily observation.\n",
    "- A trend line is added to see the overall direction of the relationship.\n",
    "\n",
    "**Why it is important:**\n",
    "- Shows whether higher humidity is associated with cooler or warmer days.\n",
    "- Useful for understanding comfort levels and extreme weather (e.g., hot + humid conditions).\n"
   ]
  },
  {
   "cell_type": "code",
   "execution_count": null,
   "id": "bc928935",
   "metadata": {},
   "outputs": [],
   "source": [
    "# Scatter + linear fit (sample)\n",
    "sample = df.dropna(subset=['tavg','humidity']).sample(frac=0.5, random_state=1)\n",
    "x = sample['humidity']\n",
    "y = sample['tavg']\n",
    "coef = np.polyfit(x, y, 1)\n",
    "poly = np.poly1d(coef)\n",
    "\n",
    "plt.figure(figsize=(6,4))\n",
    "plt.scatter(x, y, s=10, alpha=0.3)\n",
    "plt.plot(np.sort(x), poly(np.sort(x)))\n",
    "plt.xlabel('humidity')\n",
    "plt.ylabel('tavg')\n",
    "plt.title('tavg vs humidity (scatter + linear fit)')\n",
    "plt.tight_layout()\n",
    "plt.show()\n"
   ]
  },
  {
   "cell_type": "markdown",
   "id": "96d9af13",
   "metadata": {},
   "source": [
    "#### Detecting Outliers in Temperature\n",
    "\n",
    "Outliers are values that are unusually high or low compared to the rest of the data.  \n",
    "We use the **Interquartile Range (IQR) method**:\n",
    "\n",
    "- Define the lower bound = Q1 − 1.5 × IQR.  \n",
    "- Define the upper bound = Q3 + 1.5 × IQR.  \n",
    "- Any values outside this range are considered potential outliers.\n",
    "\n",
    "**Why do it:**\n",
    "- Outliers could represent **extreme weather events** (e.g., heatwaves, cold snaps).\n",
    "- Or there may be **data errors** (e.g., faulty sensor readings).\n"
   ]
  },
  {
   "cell_type": "code",
   "execution_count": null,
   "id": "8efda034",
   "metadata": {},
   "outputs": [],
   "source": [
    "# IQR-based outliers for tavg\n",
    "q1 = df['tavg'].quantile(0.25)\n",
    "q3 = df['tavg'].quantile(0.75)\n",
    "iqr = q3 - q1\n",
    "lower = q1 - 1.5*iqr\n",
    "upper = q3 + 1.5*iqr\n",
    "outliers = df[(df['tavg'] < lower) | (df['tavg'] > upper)]\n",
    "print(\"Outlier count (tavg):\", outliers.shape[0])\n",
    "display(outliers.head())\n"
   ]
  },
  {
   "cell_type": "markdown",
   "id": "3e329225",
   "metadata": {},
   "source": [
    "#### Baseline Predictive Modeling\n",
    "\n",
    "A simple **predictive model**:\n",
    "\n",
    "- Target variable: **average daily temperature (`tavg`)**.\n",
    "- Features: `tmin`, `tmax`, `prcp`, `humidity`, `pressure`, `dew_point`, and city/month.\n",
    "- Model: **Random Forest Regressor** (nonlinear, handles missing values reasonably well).\n",
    "\n",
    "We train the model on part of the dataset and test it on unseen data.\n",
    "\n",
    "**Metrics:**\n",
    "- **MAE (Mean Absolute Error):** average size of prediction errors.\n",
    "- **RMSE (Root Mean Squared Error):** penalizes larger mistakes more heavily.\n",
    "\n",
    "This provides a baseline — not the most advanced forecast, but shows that weather data has predictive power.\n"
   ]
  },
  {
   "cell_type": "code",
   "execution_count": null,
   "id": "c4b553af",
   "metadata": {},
   "outputs": [],
   "source": [
    "# Baseline ML: predict tavg using simple features (city encoded, month, wsdp, prcp...)\n",
    "from sklearn.model_selection import train_test_split\n",
    "from sklearn.ensemble import RandomForestRegressor\n",
    "from sklearn.metrics import mean_absolute_error, mean_squared_error\n",
    "\n",
    "# Prepare dataset (drop rows with missing target)\n",
    "df_model = df.dropna(subset=['tavg']).copy()\n",
    "\n",
    "# Basic features\n",
    "df_model['month'] = df_model['date'].dt.month\n",
    "features = ['month','tmin','tmax','prcp','wspd','humidity','pressure','dew_point']\n",
    "# encode city using one-hot (only cities with enough data)\n",
    "df_model = pd.get_dummies(df_model, columns=['city'], drop_first=True)\n",
    "\n",
    "# keep features that exist\n",
    "features = [f for f in features if f in df_model.columns]\n",
    "X = df_model[features + [c for c in df_model.columns if c.startswith('city_')]]\n",
    "y = df_model['tavg'].astype(float)\n",
    "\n",
    "# train/test split by time (recommended) - here simple random split for baseline\n",
    "X_train, X_test, y_train, y_test = train_test_split(X, y, test_size=0.2, random_state=42)\n",
    "\n",
    "model = RandomForestRegressor(n_estimators=100, random_state=42, n_jobs=-1)\n",
    "model.fit(X_train, y_train)\n",
    "pred = model.predict(X_test)\n",
    "\n",
    "mae = mean_absolute_error(y_test, pred)\n",
    "mse = mean_squared_error(y_test, pred)\n",
    "rmse = np.sqrt(mse)\n",
    "\n",
    "print(\"MAE:\", mae, \"RMSE:\", rmse)\n"
   ]
  },
  {
   "cell_type": "markdown",
   "id": "40553a87",
   "metadata": {},
   "source": [
    "## Conclusions & Insights\n",
    "\n",
    "From the analysis we can highlight:\n",
    "\n",
    "1. **Seasonality:** Temperatures follow a strong annual cycle with clear summer/winter differences.\n",
    "2. **Rainfall:** Monsoon dominates July–September, with significant year-to-year variation.\n",
    "3. **Regional differences:** Cities show distinct temperature distributions depending on geography.\n",
    "4. **Correlations:** Expected relationships confirmed (tmin/tmax vs tavg, humidity inverse relation).\n",
    "5. **Predictive modeling:** Even a simple model explains much of the variation in daily temperature.\n"
   ]
  }
 ],
 "metadata": {
  "kernelspec": {
   "display_name": "Python 3",
   "language": "python",
   "name": "python3"
  },
  "language_info": {
   "codemirror_mode": {
    "name": "ipython",
    "version": 3
   },
   "file_extension": ".py",
   "mimetype": "text/x-python",
   "name": "python",
   "nbconvert_exporter": "python",
   "pygments_lexer": "ipython3",
   "version": "3.13.5"
  }
 },
 "nbformat": 4,
 "nbformat_minor": 5
}
